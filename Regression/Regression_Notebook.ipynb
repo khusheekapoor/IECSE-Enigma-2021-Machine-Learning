{
  "nbformat": 4,
  "nbformat_minor": 0,
  "metadata": {
    "colab": {
      "name": "Regression_Notebook.ipynb",
      "provenance": [],
      "collapsed_sections": []
    },
    "kernelspec": {
      "name": "python3",
      "display_name": "Python 3"
    },
    "language_info": {
      "name": "python"
    }
  },
  "cells": [
    {
      "cell_type": "markdown",
      "metadata": {
        "id": "1SaExK6Bs5u7"
      },
      "source": [
        "# Engima Day 2 - Regression\n",
        "\n",
        "Your previous endeavours bore fruit. With your help, the investigators have traced the products identified as counterfeit, and they have narrowed it down to what they believe are the Mafia owned factories. You have been given data collected by these investigators. You must come up with a way to show that the profits earned far exceed the ideal profit earned by a company creating original products, considering the use of high-quality raw material. Use the data from the other factories to predict the ideal profit to prove the fraudulence of these companies.\n",
        "\n",
        "You need to predict the ideal profit earned by each factory showing the discrepancy, giving you the evidence to shut down the Mafia operations."
      ]
    },
    {
      "cell_type": "code",
      "metadata": {
        "id": "s81Cy2uN6btN"
      },
      "source": [
        "import pandas as pd"
      ],
      "execution_count": 1,
      "outputs": []
    },
    {
      "cell_type": "code",
      "metadata": {
        "id": "0tYriYQE6gww"
      },
      "source": [
        "data = pd.read_csv('Regression_Data.csv')"
      ],
      "execution_count": 2,
      "outputs": []
    },
    {
      "cell_type": "code",
      "metadata": {
        "colab": {
          "base_uri": "https://localhost:8080/",
          "height": 195
        },
        "id": "xS9daVJf6xH1",
        "outputId": "079b5e59-70cb-46a1-e262-dbf6da5899c7"
      },
      "source": [
        "data.head()"
      ],
      "execution_count": 3,
      "outputs": [
        {
          "output_type": "execute_result",
          "data": {
            "text/html": [
              "<div>\n",
              "<style scoped>\n",
              "    .dataframe tbody tr th:only-of-type {\n",
              "        vertical-align: middle;\n",
              "    }\n",
              "\n",
              "    .dataframe tbody tr th {\n",
              "        vertical-align: top;\n",
              "    }\n",
              "\n",
              "    .dataframe thead th {\n",
              "        text-align: right;\n",
              "    }\n",
              "</style>\n",
              "<table border=\"1\" class=\"dataframe\">\n",
              "  <thead>\n",
              "    <tr style=\"text-align: right;\">\n",
              "      <th></th>\n",
              "      <th>Area (km^2)</th>\n",
              "      <th>Investigated Before</th>\n",
              "      <th>Distance to port</th>\n",
              "      <th>24Hr Power</th>\n",
              "      <th>Location</th>\n",
              "      <th>Cost</th>\n",
              "    </tr>\n",
              "  </thead>\n",
              "  <tbody>\n",
              "    <tr>\n",
              "      <th>0</th>\n",
              "      <td>2.889</td>\n",
              "      <td>yes</td>\n",
              "      <td>46.648901</td>\n",
              "      <td>no</td>\n",
              "      <td>Location 3</td>\n",
              "      <td>62.488175</td>\n",
              "    </tr>\n",
              "    <tr>\n",
              "      <th>1</th>\n",
              "      <td>1.000</td>\n",
              "      <td>yes</td>\n",
              "      <td>45.536261</td>\n",
              "      <td>no</td>\n",
              "      <td>Location 2</td>\n",
              "      <td>12.560815</td>\n",
              "    </tr>\n",
              "    <tr>\n",
              "      <th>2</th>\n",
              "      <td>2.833</td>\n",
              "      <td>no</td>\n",
              "      <td>51.610558</td>\n",
              "      <td>no</td>\n",
              "      <td>Location 3</td>\n",
              "      <td>24.386175</td>\n",
              "    </tr>\n",
              "    <tr>\n",
              "      <th>3</th>\n",
              "      <td>3.111</td>\n",
              "      <td>yes</td>\n",
              "      <td>59.525692</td>\n",
              "      <td>no</td>\n",
              "      <td>Location 1</td>\n",
              "      <td>27.359963</td>\n",
              "    </tr>\n",
              "    <tr>\n",
              "      <th>4</th>\n",
              "      <td>3.556</td>\n",
              "      <td>yes</td>\n",
              "      <td>45.608195</td>\n",
              "      <td>no</td>\n",
              "      <td>Location 2</td>\n",
              "      <td>35.223461</td>\n",
              "    </tr>\n",
              "  </tbody>\n",
              "</table>\n",
              "</div>"
            ],
            "text/plain": [
              "   Area (km^2) Investigated Before  ...    Location       Cost\n",
              "0        2.889                 yes  ...  Location 3  62.488175\n",
              "1        1.000                 yes  ...  Location 2  12.560815\n",
              "2        2.833                  no  ...  Location 3  24.386175\n",
              "3        3.111                 yes  ...  Location 1  27.359963\n",
              "4        3.556                 yes  ...  Location 2  35.223461\n",
              "\n",
              "[5 rows x 6 columns]"
            ]
          },
          "metadata": {
            "tags": []
          },
          "execution_count": 3
        }
      ]
    },
    {
      "cell_type": "code",
      "metadata": {
        "colab": {
          "base_uri": "https://localhost:8080/"
        },
        "id": "mY1p2HIm650e",
        "outputId": "a44118cb-0922-4b9d-c5c7-0f61fe2d07c7"
      },
      "source": [
        "data.columns"
      ],
      "execution_count": 4,
      "outputs": [
        {
          "output_type": "execute_result",
          "data": {
            "text/plain": [
              "Index(['Area (km^2)', 'Investigated Before', 'Distance to port', '24Hr Power',\n",
              "       'Location', 'Cost'],\n",
              "      dtype='object')"
            ]
          },
          "metadata": {
            "tags": []
          },
          "execution_count": 4
        }
      ]
    },
    {
      "cell_type": "code",
      "metadata": {
        "colab": {
          "base_uri": "https://localhost:8080/"
        },
        "id": "5UxEeuhQ7FhU",
        "outputId": "7cad2f75-aaa4-4805-ba24-d62eede66395"
      },
      "source": [
        "data.dtypes"
      ],
      "execution_count": 5,
      "outputs": [
        {
          "output_type": "execute_result",
          "data": {
            "text/plain": [
              "Area (km^2)            float64\n",
              "Investigated Before     object\n",
              "Distance to port       float64\n",
              "24Hr Power              object\n",
              "Location                object\n",
              "Cost                   float64\n",
              "dtype: object"
            ]
          },
          "metadata": {
            "tags": []
          },
          "execution_count": 5
        }
      ]
    },
    {
      "cell_type": "code",
      "metadata": {
        "colab": {
          "base_uri": "https://localhost:8080/",
          "height": 370
        },
        "id": "4NJfHjbR7j97",
        "outputId": "6db6197b-aabf-4f4c-93ab-5608a8c039a3"
      },
      "source": [
        "import matplotlib.pyplot as plt\n",
        "import seaborn as sns\n",
        "\n",
        "# checking for missing/ null values\n",
        "sns.heatmap(data.isnull(), cmap='Blues', cbar=False, yticklabels=False, xticklabels=data.columns)"
      ],
      "execution_count": 6,
      "outputs": [
        {
          "output_type": "execute_result",
          "data": {
            "text/plain": [
              "<matplotlib.axes._subplots.AxesSubplot at 0x7efdae8dddd0>"
            ]
          },
          "metadata": {
            "tags": []
          },
          "execution_count": 6
        },
        {
          "output_type": "display_data",
          "data": {
            "image/png": "[encoded data removed]",
            "text/plain": [
              "<Figure size 432x288 with 1 Axes>"
            ]
          },
          "metadata": {
            "tags": [],
            "needs_background": "light"
          }
        }
      ]
    },
    {
      "cell_type": "code",
      "metadata": {
        "id": "tp6hBJya7FWT"
      },
      "source": [
        "y = data.Cost\n",
        "X = data.drop(['Cost'], axis=1)"
      ],
      "execution_count": 7,
      "outputs": []
    },
    {
      "cell_type": "code",
      "metadata": {
        "id": "RN8dX6EK7_cj"
      },
      "source": [
        "# splitting the dataset as per the instructions given\n",
        "X_train_full = X[:200]\n",
        "X_valid_full = X[200:]\n",
        "\n",
        "y_train = y[:200]\n",
        "y_valid = y[200:]"
      ],
      "execution_count": 8,
      "outputs": []
    },
    {
      "cell_type": "code",
      "metadata": {
        "id": "onH5OvLUFVfH"
      },
      "source": [
        "# selecting the categorical columns with relatively low cardinality\n",
        "categorical_cols = [cname for cname in X_train_full.columns if X_train_full[cname].nunique() < 10 and  X_train_full[cname].dtype == \"object\"]"
      ],
      "execution_count": 9,
      "outputs": []
    },
    {
      "cell_type": "code",
      "metadata": {
        "id": "gZ7WT9_-FXeA"
      },
      "source": [
        "# selecting the numerical columns\n",
        "numerical_cols = [cname for cname in X_train_full.columns if X_train_full[cname].dtype in ['int64', 'float64']]"
      ],
      "execution_count": 10,
      "outputs": []
    },
    {
      "cell_type": "code",
      "metadata": {
        "id": "5tOQb_c9FY-g"
      },
      "source": [
        "# keeping the selected columns only\n",
        "my_cols = categorical_cols + numerical_cols\n",
        "X_train = X_train_full[my_cols].copy()\n",
        "X_valid = X_valid_full[my_cols].copy()"
      ],
      "execution_count": 11,
      "outputs": []
    },
    {
      "cell_type": "code",
      "metadata": {
        "id": "9Me47ip5FbPe"
      },
      "source": [
        "from sklearn.compose import ColumnTransformer\n",
        "from sklearn.pipeline import Pipeline\n",
        "from sklearn.impute import SimpleImputer\n",
        "from sklearn.preprocessing import RobustScaler\n",
        "from sklearn.preprocessing import OneHotEncoder\n",
        "\n",
        "# preprocessing for numerical data\n",
        "numerical_transformer = Pipeline(steps = [\n",
        "    ('imputer', SimpleImputer(strategy='constant')),\n",
        "    ('scaler', RobustScaler())\n",
        "])\n",
        "\n",
        "# preprocessing for categorical data\n",
        "categorical_transformer = Pipeline(steps=[\n",
        "    ('imputer', SimpleImputer(strategy='most_frequent')),\n",
        "    ('onehot', OneHotEncoder(handle_unknown='ignore'))\n",
        "])\n",
        "\n",
        "# bundle preprocessing for numerical and categorical data\n",
        "preprocessor = ColumnTransformer(\n",
        "    transformers=[\n",
        "        ('num', numerical_transformer, numerical_cols),\n",
        "        ('cat', categorical_transformer, categorical_cols)\n",
        "      ])"
      ],
      "execution_count": 12,
      "outputs": []
    },
    {
      "cell_type": "code",
      "metadata": {
        "id": "QSTRV4_qGmUp"
      },
      "source": [
        "from sklearn.ensemble import RandomForestRegressor\n",
        "\n",
        "# defining the model\n",
        "rfr = RandomForestRegressor(max_depth = 6, random_state=7)"
      ],
      "execution_count": 13,
      "outputs": []
    },
    {
      "cell_type": "code",
      "metadata": {
        "colab": {
          "base_uri": "https://localhost:8080/"
        },
        "id": "OV4qWI47Fjie",
        "outputId": "30ff90b3-6cf2-48f0-fb04-19db017e51b8"
      },
      "source": [
        "from sklearn.metrics import mean_squared_error\n",
        "from math import sqrt\n",
        "\n",
        "# bundle preprocessing and modeling code in a pipeline\n",
        "my_pipeline = Pipeline(steps=[('preprocessor', preprocessor),\n",
        "                              ('rfr', rfr)\n",
        "                             ])\n",
        "\n",
        "# preprocessing of training data, fitting the model \n",
        "my_pipeline.fit(X_train, y_train)\n",
        "\n",
        "# preprocessing of validation data, getting predictions\n",
        "preds = my_pipeline.predict(X_valid)\n",
        "\n",
        "# evaluating the model\n",
        "score = sqrt(mean_squared_error(y_valid, preds))\n",
        "print('RMSE:', score)"
      ],
      "execution_count": 14,
      "outputs": [
        {
          "output_type": "stream",
          "text": [
            "RMSE: 6.11446335668914\n"
          ],
          "name": "stdout"
        }
      ]
    },
    {
      "cell_type": "markdown",
      "metadata": {
        "id": "1xY7b93ztPqw"
      },
      "source": [
        "Final Score: 6.11 RMSE"
      ]
    }
  ]
}