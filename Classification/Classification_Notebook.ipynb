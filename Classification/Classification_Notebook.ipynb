{
  "nbformat": 4,
  "nbformat_minor": 0,
  "metadata": {
    "colab": {
      "name": "Classification_Notebook.ipynb",
      "provenance": [],
      "collapsed_sections": []
    },
    "kernelspec": {
      "name": "python3",
      "display_name": "Python 3"
    },
    "language_info": {
      "name": "python"
    }
  },
  "cells": [
    {
      "cell_type": "markdown",
      "metadata": {
        "id": "-ZynJ2jvdfgq"
      },
      "source": [
        "# Engima Day 1 - Classification\n",
        "\n",
        "The elite 10 Luxury Conglomerates reported USD 144 billion in revenue from luxury good in 2019 FY, and the luxury goods market has been on a perpetual upward trend. Few can afford these luxury products, and even fewer can manage to produce these high-end products. Owning these products have always been prestigious and are the epitome of desirability.\n",
        "\n",
        "The Mafia has been selling exact replicas of various high-end products such premium sneakers, exquisite jackets, swiss watches, stylish handbags, haute-couture clothes etc. The Mafia has continuously earned hefty profits from this operation and virtually causing loss worth billions to these companies. They further use this money to fund illegal operations all over Asia. You are part of the Asian Federal Trade Control's (AFTC) Bureau of Consumer Protection.\n",
        "\n",
        "You have been assigned to scrutinize and detail to gather intel about the Mafia's operations. The counterfeit products are incredibly identical to the original ones, and the Mafia would do anything in its power to keep selling them.\n",
        "\n",
        "The given data contains certain attributes you need to determine which of the products are counterfeit to track down the chain of operation."
      ]
    },
    {
      "cell_type": "code",
      "metadata": {
        "id": "Cr93vKMUctSD"
      },
      "source": [
        "import pandas as pd"
      ],
      "execution_count": 1,
      "outputs": []
    },
    {
      "cell_type": "code",
      "metadata": {
        "id": "KXvetgkDc4Ju"
      },
      "source": [
        "data = pd.read_csv('Classification_Data.csv')"
      ],
      "execution_count": 2,
      "outputs": []
    },
    {
      "cell_type": "code",
      "metadata": {
        "colab": {
          "base_uri": "https://localhost:8080/",
          "height": 195
        },
        "id": "l3-HX0Mbc9Pr",
        "outputId": "09d5de4a-aba6-45b0-ec98-a6ba75ebd828"
      },
      "source": [
        "data.head()"
      ],
      "execution_count": 3,
      "outputs": [
        {
          "output_type": "execute_result",
          "data": {
            "text/html": [
              "<div>\n",
              "<style scoped>\n",
              "    .dataframe tbody tr th:only-of-type {\n",
              "        vertical-align: middle;\n",
              "    }\n",
              "\n",
              "    .dataframe tbody tr th {\n",
              "        vertical-align: top;\n",
              "    }\n",
              "\n",
              "    .dataframe thead th {\n",
              "        text-align: right;\n",
              "    }\n",
              "</style>\n",
              "<table border=\"1\" class=\"dataframe\">\n",
              "  <thead>\n",
              "    <tr style=\"text-align: right;\">\n",
              "      <th></th>\n",
              "      <th>Durability %</th>\n",
              "      <th>Hand/Factory Made</th>\n",
              "      <th>MSRP</th>\n",
              "      <th>Box Volume (cm^3)</th>\n",
              "      <th>Nature of Payment</th>\n",
              "      <th>No. of Sales</th>\n",
              "      <th>Asia or Not</th>\n",
              "      <th>Port</th>\n",
              "      <th>Factory</th>\n",
              "      <th>Counterfeit</th>\n",
              "    </tr>\n",
              "  </thead>\n",
              "  <tbody>\n",
              "    <tr>\n",
              "      <th>0</th>\n",
              "      <td>0.312381</td>\n",
              "      <td>Handmade</td>\n",
              "      <td>5196</td>\n",
              "      <td>18785.704912</td>\n",
              "      <td>PrePaid</td>\n",
              "      <td>10211</td>\n",
              "      <td>Asia</td>\n",
              "      <td>Port 0</td>\n",
              "      <td>Factory 0</td>\n",
              "      <td>0</td>\n",
              "    </tr>\n",
              "    <tr>\n",
              "      <th>1</th>\n",
              "      <td>0.512374</td>\n",
              "      <td>Handmade</td>\n",
              "      <td>5318</td>\n",
              "      <td>17301.908573</td>\n",
              "      <td>PrePaid</td>\n",
              "      <td>5185</td>\n",
              "      <td>Asia</td>\n",
              "      <td>Port 0</td>\n",
              "      <td>Factory 2</td>\n",
              "      <td>1</td>\n",
              "    </tr>\n",
              "    <tr>\n",
              "      <th>2</th>\n",
              "      <td>0.752365</td>\n",
              "      <td>Factorymade</td>\n",
              "      <td>6563</td>\n",
              "      <td>9250.611338</td>\n",
              "      <td>COD</td>\n",
              "      <td>5579</td>\n",
              "      <td>Asia</td>\n",
              "      <td>Port 2</td>\n",
              "      <td>Factory 0</td>\n",
              "      <td>1</td>\n",
              "    </tr>\n",
              "    <tr>\n",
              "      <th>3</th>\n",
              "      <td>0.592371</td>\n",
              "      <td>Factorymade</td>\n",
              "      <td>5318</td>\n",
              "      <td>12618.315418</td>\n",
              "      <td>COD</td>\n",
              "      <td>6036</td>\n",
              "      <td>Asia</td>\n",
              "      <td>Port 1</td>\n",
              "      <td>Factory 1</td>\n",
              "      <td>0</td>\n",
              "    </tr>\n",
              "    <tr>\n",
              "      <th>4</th>\n",
              "      <td>0.712367</td>\n",
              "      <td>Factorymade</td>\n",
              "      <td>3553</td>\n",
              "      <td>9864.706939</td>\n",
              "      <td>COD</td>\n",
              "      <td>6051</td>\n",
              "      <td>Asia</td>\n",
              "      <td>Port 1</td>\n",
              "      <td>Factory 0</td>\n",
              "      <td>1</td>\n",
              "    </tr>\n",
              "  </tbody>\n",
              "</table>\n",
              "</div>"
            ],
            "text/plain": [
              "   Durability % Hand/Factory Made  MSRP  ...   Port    Factory   Counterfeit\n",
              "0      0.312381          Handmade  5196  ...  Port 0  Factory 0            0\n",
              "1      0.512374          Handmade  5318  ...  Port 0  Factory 2            1\n",
              "2      0.752365       Factorymade  6563  ...  Port 2  Factory 0            1\n",
              "3      0.592371       Factorymade  5318  ...  Port 1  Factory 1            0\n",
              "4      0.712367       Factorymade  3553  ...  Port 1  Factory 0            1\n",
              "\n",
              "[5 rows x 10 columns]"
            ]
          },
          "metadata": {
            "tags": []
          },
          "execution_count": 3
        }
      ]
    },
    {
      "cell_type": "code",
      "metadata": {
        "colab": {
          "base_uri": "https://localhost:8080/"
        },
        "id": "jL4lENsIdJk6",
        "outputId": "90b1187d-4c6c-4842-9f7f-740e8613296b"
      },
      "source": [
        "data.columns"
      ],
      "execution_count": 4,
      "outputs": [
        {
          "output_type": "execute_result",
          "data": {
            "text/plain": [
              "Index(['Durability %', 'Hand/Factory Made', 'MSRP', 'Box Volume (cm^3)',\n",
              "       'Nature of Payment', 'No. of Sales', 'Asia or Not', 'Port ', 'Factory ',\n",
              "       'Counterfeit'],\n",
              "      dtype='object')"
            ]
          },
          "metadata": {
            "tags": []
          },
          "execution_count": 4
        }
      ]
    },
    {
      "cell_type": "code",
      "metadata": {
        "colab": {
          "base_uri": "https://localhost:8080/"
        },
        "id": "NhaZmxw8dMma",
        "outputId": "46d60dbe-c2e4-4b34-a6c7-972ff6335916"
      },
      "source": [
        "data.dtypes"
      ],
      "execution_count": 5,
      "outputs": [
        {
          "output_type": "execute_result",
          "data": {
            "text/plain": [
              "Durability %         float64\n",
              "Hand/Factory Made     object\n",
              "MSRP                   int64\n",
              "Box Volume (cm^3)    float64\n",
              "Nature of Payment     object\n",
              "No. of Sales           int64\n",
              "Asia or Not           object\n",
              "Port                  object\n",
              "Factory               object\n",
              "Counterfeit            int64\n",
              "dtype: object"
            ]
          },
          "metadata": {
            "tags": []
          },
          "execution_count": 5
        }
      ]
    },
    {
      "cell_type": "code",
      "metadata": {
        "colab": {
          "base_uri": "https://localhost:8080/"
        },
        "id": "uSBtWyZrdA6v",
        "outputId": "c124ad4d-003c-459f-ada7-5f55d1b56f2d"
      },
      "source": [
        "# checking for missing/ null values\n",
        "data.isnull().sum()"
      ],
      "execution_count": 6,
      "outputs": [
        {
          "output_type": "execute_result",
          "data": {
            "text/plain": [
              "Durability %         0\n",
              "Hand/Factory Made    0\n",
              "MSRP                 0\n",
              "Box Volume (cm^3)    0\n",
              "Nature of Payment    0\n",
              "No. of Sales         0\n",
              "Asia or Not          0\n",
              "Port                 0\n",
              "Factory              0\n",
              "Counterfeit          0\n",
              "dtype: int64"
            ]
          },
          "metadata": {
            "tags": []
          },
          "execution_count": 6
        }
      ]
    },
    {
      "cell_type": "code",
      "metadata": {
        "id": "N0-HNv-64qKA"
      },
      "source": [
        "# splitting the independent and dependent variables\n",
        "y = data.Counterfeit\n",
        "X = data.drop(['Counterfeit'], axis=1)"
      ],
      "execution_count": 7,
      "outputs": []
    },
    {
      "cell_type": "code",
      "metadata": {
        "id": "gAPwUje_4_KX"
      },
      "source": [
        "# splitting the dataset as per the instructions given\n",
        "X_train_full = X[:2000]\n",
        "X_valid_full = X[2000:]\n",
        "\n",
        "y_train = y[:2000]\n",
        "y_valid = y[2000:]"
      ],
      "execution_count": 8,
      "outputs": []
    },
    {
      "cell_type": "code",
      "metadata": {
        "id": "L34AprBd8P3R"
      },
      "source": [
        "# selecting the categorical columns with relatively low cardinality\n",
        "categorical_cols = [cname for cname in X_train_full.columns if X_train_full[cname].nunique() < 10 and  X_train_full[cname].dtype == \"object\"]"
      ],
      "execution_count": 9,
      "outputs": []
    },
    {
      "cell_type": "code",
      "metadata": {
        "id": "MEhAKOz78UpC"
      },
      "source": [
        "# selecting the numerical columns\n",
        "numerical_cols = [cname for cname in X_train_full.columns if X_train_full[cname].dtype in ['int64', 'float64']]"
      ],
      "execution_count": 10,
      "outputs": []
    },
    {
      "cell_type": "code",
      "metadata": {
        "id": "_XE5kF388age"
      },
      "source": [
        "# keeping the selected columns only\n",
        "my_cols = categorical_cols + numerical_cols\n",
        "X_train = X_train_full[my_cols].copy()\n",
        "X_valid = X_valid_full[my_cols].copy()"
      ],
      "execution_count": 11,
      "outputs": []
    },
    {
      "cell_type": "code",
      "metadata": {
        "id": "jrOix7dW8p4i"
      },
      "source": [
        "from sklearn.compose import ColumnTransformer\n",
        "from sklearn.pipeline import Pipeline\n",
        "from sklearn.impute import SimpleImputer\n",
        "from sklearn.preprocessing import RobustScaler\n",
        "from sklearn.preprocessing import OneHotEncoder\n",
        "\n",
        "# preprocessing for numerical data\n",
        "numerical_transformer = Pipeline(steps = [\n",
        "    ('imputer', SimpleImputer(strategy='constant')),\n",
        "    ('scaler', RobustScaler())\n",
        "])\n",
        "\n",
        "# preprocessing for categorical data\n",
        "categorical_transformer = Pipeline(steps=[\n",
        "    ('imputer', SimpleImputer(strategy='most_frequent')),\n",
        "    ('onehot', OneHotEncoder(handle_unknown='ignore'))\n",
        "])\n",
        "\n",
        "# bundle preprocessing for numerical and categorical data\n",
        "preprocessor = ColumnTransformer(\n",
        "    transformers=[\n",
        "        ('num', numerical_transformer, numerical_cols),\n",
        "        ('cat', categorical_transformer, categorical_cols)\n",
        "      ])"
      ],
      "execution_count": 12,
      "outputs": []
    },
    {
      "cell_type": "code",
      "metadata": {
        "id": "GZZON33--PTy"
      },
      "source": [
        "from sklearn.ensemble import RandomForestClassifier\n",
        "\n",
        "# defining the model\n",
        "rfc = RandomForestClassifier(max_depth=10, random_state =7, n_estimators =93)"
      ],
      "execution_count": 13,
      "outputs": []
    },
    {
      "cell_type": "code",
      "metadata": {
        "colab": {
          "base_uri": "https://localhost:8080/"
        },
        "id": "xHzyWYQb5JCq",
        "outputId": "7a9ff2fb-7b6a-427a-d292-151cf48cd992"
      },
      "source": [
        "# bundle preprocessing and modeling code in a pipeline\n",
        "my_pipeline = Pipeline(steps=[('preprocessor', preprocessor),\n",
        "                              ('rfc', rfc)\n",
        "                             ])\n",
        "\n",
        "# preprocessing of training data, fitting the model \n",
        "my_pipeline.fit(X_train, y_train)\n",
        "\n",
        "# preprocessing of validation data, evaluating the model\n",
        "score = my_pipeline.score(X_valid, y_valid)\n",
        "\n",
        "print('Score: ', score)"
      ],
      "execution_count": 14,
      "outputs": [
        {
          "output_type": "stream",
          "text": [
            "Score:  0.7310344827586207\n"
          ],
          "name": "stdout"
        }
      ]
    },
    {
      "cell_type": "markdown",
      "metadata": {
        "id": "-mKSqog0eNah"
      },
      "source": [
        "Final Score: 73.10% Accuracy"
      ]
    }
  ]
}